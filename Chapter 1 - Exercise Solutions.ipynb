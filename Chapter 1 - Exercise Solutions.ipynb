{
 "cells": [
  {
   "cell_type": "markdown",
   "id": "b1f3a7ff",
   "metadata": {},
   "source": [
    "**1. How would you define machine learning?**\n",
    "\n",
    "Machine Learning is building systems that can learn from data. The data is provided to improve the performance of a pariticular task given a performance measure."
   ]
  },
  {
   "cell_type": "markdown",
   "id": "d1957556",
   "metadata": {},
   "source": [
    "**2. Can you name four types of applications where it shines?**\n",
    "\n",
    "* Complex problems that do not have any algorithimic solutions.\n",
    "* To replace a list of hand writeen rules.\n",
    "* Building systems to adapt to fluctuating environments.\n",
    "* Helping humans learn."
   ]
  },
  {
   "cell_type": "markdown",
   "id": "c12422a0",
   "metadata": {},
   "source": [
    "**3. What is a labeled training set?**\n",
    "\n",
    "It contains the trianing set that contains the desired solutions for each instance."
   ]
  },
  {
   "cell_type": "markdown",
   "id": "0b004abb",
   "metadata": {},
   "source": [
    "**4. What are the two most common supervised tasks?**\n",
    "\n",
    "Classification and Regression."
   ]
  },
  {
   "cell_type": "markdown",
   "id": "d1eeb84a",
   "metadata": {},
   "source": [
    "**5. Can you name four common unsupervised tasks?**\n",
    "\n",
    "* Clustering.\n",
    "* Vizulaization.\n",
    "* Dimensionality Reduction.\n",
    "* Association rule mining."
   ]
  },
  {
   "cell_type": "markdown",
   "id": "7cc06d5a",
   "metadata": {},
   "source": [
    "**6. What type of algorithm would you use to allow a robot to walk in\n",
    "various unknown terrains?**\n",
    "\n",
    "I would use a reinforcement algorithm for this purpose. This is a typical task for a reinforcement learning algorithm."
   ]
  },
  {
   "cell_type": "markdown",
   "id": "d9e3a7de",
   "metadata": {},
   "source": [
    "**7. What type of algorithm would you use to segment your customers into\n",
    "multiple groups?**\n",
    "\n",
    "I would use a clustering algorithm (unsupervised) if we have no knowledge on how to define the customer groups. If we have some information on how to define the groups, then we can use classification algorithms (supervised)."
   ]
  },
  {
   "cell_type": "markdown",
   "id": "7fb7d003",
   "metadata": {},
   "source": [
    "**8. Would you frame the problem of spam detection as a supervised\n",
    "learning problem or an unsupervised learning problem?**\n",
    "\n",
    "Spam detection is a supervised learning algorithm. The data fed would be the mails along with their respective labels (if they are a spam or not)."
   ]
  },
  {
   "cell_type": "markdown",
   "id": "ad629462",
   "metadata": {},
   "source": [
    "**9. What is an online learning system?**\n",
    "\n",
    "An online learning system is one that can learn incrementally. It is capable of adapting to changing data and autonomous systems. It is also trained on a large quatity of data."
   ]
  },
  {
   "cell_type": "markdown",
   "id": "cbf0b9c0",
   "metadata": {},
   "source": [
    "**10. What is out-of-core learning?**\n",
    "\n",
    "It handles large quantities of data that cannot fit in the computer's main memory. It chops the data into mini-batches abd uses online learning algorithms to learn from these batches."
   ]
  },
  {
   "cell_type": "markdown",
   "id": "ec9731c6",
   "metadata": {},
   "source": [
    "**11. What type of algorithm relies on a similarity measure to make\n",
    "predictions?**\n",
    "\n",
    "An instance based algorithm system learns the training data by heart. When given a new instance, it uses a similarity measure to find the most similar learned instances and use them to make predictions."
   ]
  },
  {
   "cell_type": "markdown",
   "id": "80059031",
   "metadata": {},
   "source": [
    "**12. What is the difference between a model parameter and a model\n",
    "hyperparameter?**\n",
    "\n",
    "A model has one or more pareamters that are used to make predictions. A learning model alters the parameters to make accurate predictions. A hyperparameter is a parameter of algorithm itself. It remains constant and it is used to specify the amount of regularization of the model."
   ]
  },
  {
   "cell_type": "markdown",
   "id": "3a820ff1",
   "metadata": {},
   "source": [
    "**13. What do model-based algorithms search for? What is the most\n",
    "common strategy they use to succeed? How do they make predictions?**\n",
    "\n",
    "Model based learning algorithms search for an optimal value of the model parameters such that the model will generalize well to new instances.\n",
    "\n",
    "For the algorithm to succeed, we use a cost function which measures how bad the system is making predictions. Also a peanlty for the model complexity is monitored.\n",
    "\n",
    "To make predictions, we feed new instances to the model for predictions, using the model's learned parameter values."
   ]
  },
  {
   "cell_type": "markdown",
   "id": "d37aaa20",
   "metadata": {},
   "source": [
    "**14. Can you name four of the main challenges in machine learning?**\n",
    "\n",
    "* Lack of data.\n",
    "* Poor data quality.\n",
    "* Too simple or too complex models.\n",
    "* Uninformative features."
   ]
  },
  {
   "cell_type": "markdown",
   "id": "619173bc",
   "metadata": {},
   "source": [
    "**15. If your model performs great on the training data but generalizes\n",
    "poorly to new instances, what is happening? Can you name three\n",
    "possible solutions?**\n",
    "\n",
    "The issue here is that the model is overfitting the training data. It can be solved by getting more data, simplifying the model, reducing the number of parameters/features used or by reducing the noise of the training data."
   ]
  },
  {
   "cell_type": "markdown",
   "id": "dc7b5295",
   "metadata": {},
   "source": [
    "**16. What is a test set, and why would you want to use it?**\n",
    "\n",
    "A test set is used to estimate the generalization error that model will make on new instances."
   ]
  },
  {
   "cell_type": "markdown",
   "id": "7f40c316",
   "metadata": {},
   "source": [
    "**17. What is the purpose of a validation set?**\n",
    "\n",
    "A validation set is used to compare differnt models for the same training set. It allows us to select the best model and tune the hyperparameters."
   ]
  },
  {
   "cell_type": "markdown",
   "id": "8a8e28cb",
   "metadata": {},
   "source": [
    "**18. What is the train-dev set, when do you need it, and how do you use it?**\n",
    "\n",
    "A train-dev-set is used when there is a possible mismatch between the training data and the data used in validation and testing. A part of the training dataset is held out as the train-dev set. The model is first trained on the rest of the training set. It is then trained on the train-dev set and then the validation set. If it performs well in both then there is no mismatch. Else we have to try doing some preprocessing to rectify the data mismatch."
   ]
  },
  {
   "cell_type": "markdown",
   "id": "217970ea",
   "metadata": {},
   "source": [
    "**19. What can go wrong if you tune hyperparameters using the test set?**\n",
    "\n",
    "If we tune the hyperparameters using the test set then we risk overfitting the test set. This may result in higher generalization errors."
   ]
  }
 ],
 "metadata": {
  "kernelspec": {
   "display_name": "Python 3 (ipykernel)",
   "language": "python",
   "name": "python3"
  },
  "language_info": {
   "codemirror_mode": {
    "name": "ipython",
    "version": 3
   },
   "file_extension": ".py",
   "mimetype": "text/x-python",
   "name": "python",
   "nbconvert_exporter": "python",
   "pygments_lexer": "ipython3",
   "version": "3.9.13"
  }
 },
 "nbformat": 4,
 "nbformat_minor": 5
}
